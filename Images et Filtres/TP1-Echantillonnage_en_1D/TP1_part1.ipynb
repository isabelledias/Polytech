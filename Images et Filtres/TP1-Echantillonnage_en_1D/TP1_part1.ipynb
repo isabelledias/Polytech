{
 "cells": [
  {
   "cell_type": "markdown",
   "metadata": {},
   "source": [
    "<h1>Rappels sur l’échantillonnage</h1>\n",
    "\n",
    "<h2>**Définition**</h2> L’échantillonnage consiste à prélever un échantillon du signal à des intervalles réguliers. Ces intervalles peuvent être des intervalles de temps (si on travaille sur un signal temporel) ou des intervalles d’espace (si on travaille sur une image par exemple).\n",
    "\n",
    "<h2>**Formalisme temporel**</h2> En travaillant sur un signal temporel (1D), l’échantillonnage consiste par un peigne de dirac\n",
    "$\\Pi_{T(t)} = \\sum_{i=-\\infty}^{\\infty} \\delta(t - nT)$. Un signal échantillonné à la période $T_e$ (ou de fréquence d’échantillonnage $T_e$) s’écrit alors :\n",
    "\n",
    "$$\n",
    "\\begin{aligned}\n",
    "x_e (t) = x(t)\\Pi_{T_e(t)}\n",
    "\\end{aligned}\n",
    "$$\n",
    "\n",
    "                              \n",
    "<h2>**Formalisme fréquentiel**</h2> A partir de cette expression temporelle, l’expression fréquentielle en découle: \n",
    "\n",
    "$$\n",
    "\\begin{aligned}\n",
    "\\begin{split}\n",
    "X_e(f) & = X(f)* \\hat{\\Pi}_{T_e(t)} \\\\\n",
    "   & = \\int_{-\\infty}^\\infty  X(f - f')\\frac{1}{T_e} \\sum_{i=-\\infty}^{\\infty} \\delta(f' - nF_{e}) \\mathrm{d}f' \\\\\n",
    "   & = F_{e}\\sum_{i=-\\infty}^{\\infty} X(f - nF_{e}))\n",
    "\\end{split}\n",
    "\\end{aligned}\n",
    "$$\n",
    "\n",
    "\n",
    "Le spectre du signal échantilloné est donc une périodisation du spectre du signal analogique de période $F_e$."
   ]
  },
  {
   "cell_type": "markdown",
   "metadata": {},
   "source": [
    "### Echantillonnage 1D - suréchantillonnage - souséchantillonnage"
   ]
  },
  {
   "cell_type": "code",
   "execution_count": 1,
   "metadata": {},
   "outputs": [],
   "source": [
    "import numpy as np\n",
    "import matplotlib.pyplot as plt\n",
    "'''Notes sur huit octaves'''\n",
    "base_notes = [4186.24/2**7,4435.2/2**7,4698.88/2**7,4977.92/2**7,5274.24/2**7,5587.84/2**7,5920/2**7,6272/2**7,6645.12/2**7,7040/2**7,7458.56/2**7,7902.08/2**7]\n",
    "frnotes = list()\n",
    "frnotes.append(np.array(base_notes))"
   ]
  },
  {
   "cell_type": "code",
   "execution_count": 2,
   "metadata": {},
   "outputs": [],
   "source": [
    "for i in range(1,8):\n",
    "    frnotes.append(np.dot(frnotes[i-1],2))"
   ]
  },
  {
   "cell_type": "code",
   "execution_count": 3,
   "metadata": {},
   "outputs": [],
   "source": [
    "Do=1; Dod = 2; Re = 3; Red = 4; Mi = 5; Fa = 6; Fad = 7; Sol = 8; Sold= 9; La = 10; Lad = 11; Si = 12;"
   ]
  },
  {
   "cell_type": "code",
   "execution_count": 4,
   "metadata": {},
   "outputs": [],
   "source": [
    "'''Generate chirp from the Do4 to Do5 (10 seconds)'''\n",
    "Fs = int(2000)\n",
    "tmax = float(10);\n",
    "t = np.arange(0, tmax, 1/Fs);\n",
    "f = np.arange(frnotes[3][0], frnotes[4][0], (frnotes[4][0]-frnotes[3][0])/Fs/tmax);\n"
   ]
  },
  {
   "cell_type": "code",
   "execution_count": 5,
   "metadata": {},
   "outputs": [],
   "source": [
    "import scipy.io.wavfile\n",
    "chirp = np.sin(2*np.pi*t*f)\n",
    "scipy.io.wavfile.write('chirp1.wav', Fs, chirp)\n",
    "#//use the native OS player"
   ]
  },
  {
   "cell_type": "code",
   "execution_count": 6,
   "metadata": {},
   "outputs": [],
   "source": [
    "'''Downsample by 2 : new sampling frequency is Fs2 = Fs/2'''\n",
    "Fs2=Fs/2;\n",
    "chirp_downsampled=chirp[::2];\n",
    "scipy.io.wavfile.write('chirp_down.wav', Fs, chirp_downsampled)\n",
    "# use the native OS player"
   ]
  },
  {
   "cell_type": "markdown",
   "metadata": {},
   "source": [
    "\n",
    "Dans la première partie, on génère simplement le chirp. Dans la deuxième partie, on le sous-\n",
    "échantillonne par deux. Vous devez faire le graphe du spectre du signal en fonction du temps\n",
    "dans les deux cas (mettre le temps en abscisse et la fréquence en ordonnée, comme dans le cas du spectrogramme).\n",
    "Donnez la justification théorique précise (entre autres avec les documents joints sur Jalon)."
   ]
  },
  {
   "cell_type": "code",
   "execution_count": 20,
   "metadata": {},
   "outputs": [
    {
     "data": {
      "image/png": "[encoded data removed]",
      "text/plain": [
       "<Figure size 432x288 with 1 Axes>"
      ]
     },
     "metadata": {
      "needs_background": "light"
     },
     "output_type": "display_data"
    }
   ],
   "source": [
    "from scipy import signal\n",
    "freqs, times, spectrogram = signal.spectrogram(chirp)\n",
    "\n",
    "plt.figure(1)\n",
    "plt.imshow(spectrogram, aspect='auto', origin='lower')\n",
    "plt.title('Spectrogram')\n",
    "plt.ylabel('Frequency')\n",
    "plt.xlabel('Time')\n",
    "plt.show()"
   ]
  },
  {
   "cell_type": "code",
   "execution_count": 21,
   "metadata": {},
   "outputs": [
    {
     "data": {
      "image/png": "[encoded data removed]",
      "text/plain": [
       "<Figure size 432x288 with 1 Axes>"
      ]
     },
     "metadata": {
      "needs_background": "light"
     },
     "output_type": "display_data"
    }
   ],
   "source": [
    "freqs2, times2, spectrogram2 = signal.spectrogram(chirp_downsampled)\n",
    "\n",
    "plt.figure(2)\n",
    "plt.imshow(spectrogram2, aspect='auto', origin='lower')\n",
    "plt.title('Spectrogram_down')\n",
    "plt.ylabel('Frequency')\n",
    "plt.xlabel('Time')\n",
    "plt.show()"
   ]
  },
  {
   "cell_type": "markdown",
   "metadata": {},
   "source": [
    "Dans un deuxième temps, on s’intéresse à deux sons, un “La” riche (présent sur 4 octaves) et un “Do” riche également. Ces sons sont générés avec une fréquence d’échantillonnage indiquées dans les figures jointes. On leur fait subir un changement de fréquence d’échantillonnage donné dans les figures également, sous l’appellation Axxx et Bxxx. On vous demande d’indiquer l’opération qui a été effectuée ainsi que d’indiquer en quoi le son A et sa version modifiée sont particulières.\n",
    "Qu’a t’on choisi “subtilement” pour arriver à ce résultat ?"
   ]
  },
  {
   "cell_type": "markdown",
   "metadata": {},
   "source": [
    "<img src=\"fig1.png\" title=\"fig1\" style=\"width: 700px;\" />\n",
    "<img src=\"fig2.png\" title=\"fig2\" style=\"width: 700px;\" />\n",
    "<img src=\"fig3.png\" title=\"fig3\" style=\"width: 700px;\" />\n",
    "<img src=\"fig4.png\" title=\"fig4\" style=\"width: 700px;\" />"
   ]
  },
  {
   "cell_type": "code",
   "execution_count": null,
   "metadata": {},
   "outputs": [],
   "source": []
  },
  {
   "cell_type": "markdown",
   "metadata": {},
   "source": [
    "### Changement de cadence\n",
    "Les densités spectrales de puissance dans la figure A et B ont ete genere a partir de le meme signal avec frequence d'échantillonnage Fs = 75kHz, apres il a ete souséchantillonne à 37.5 kHz et suréchantillonne at 150 kHz.\n",
    "\n"
   ]
  },
  {
   "cell_type": "markdown",
   "metadata": {},
   "source": [
    "<img src=\"down1.gif\" title=\"fig A\" />"
   ]
  },
  {
   "cell_type": "markdown",
   "metadata": {},
   "source": [
    "<img src=\"down2.gif\" title=\"fig B\" />"
   ]
  },
  {
   "cell_type": "markdown",
   "metadata": {},
   "source": [
    "Quelle est la différence entre les deux figures? Indiquez celle qui vous paraît la plus “naturelle”.\n",
    "Expliquez également les différences d’amplitude des densités spectrales de puissance (avec des\n",
    "arguments solides)."
   ]
  },
  {
   "cell_type": "code",
   "execution_count": null,
   "metadata": {},
   "outputs": [],
   "source": []
  },
  {
   "cell_type": "markdown",
   "metadata": {},
   "source": [
    "<h2>1.4 Séance 2 : Echantillonnage en 2D</h2>"
   ]
  },
  {
   "cell_type": "code",
   "execution_count": null,
   "metadata": {},
   "outputs": [],
   "source": []
  },
  {
   "cell_type": "code",
   "execution_count": null,
   "metadata": {},
   "outputs": [],
   "source": []
  }
 ],
 "metadata": {
  "kernelspec": {
   "display_name": "Python 3",
   "language": "python",
   "name": "python3"
  },
  "language_info": {
   "codemirror_mode": {
    "name": "ipython",
    "version": 3
   },
   "file_extension": ".py",
   "mimetype": "text/x-python",
   "name": "python",
   "nbconvert_exporter": "python",
   "pygments_lexer": "ipython3",
   "version": "3.7.6"
  }
 },
 "nbformat": 4,
 "nbformat_minor": 4
}
